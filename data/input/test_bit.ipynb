{
 "cells": [
  {
   "cell_type": "code",
   "execution_count": 5,
   "metadata": {},
   "outputs": [
    {
     "name": "stdout",
     "output_type": "stream",
     "text": [
      "Image depth: uint8\n"
     ]
    }
   ],
   "source": [
    "import cv2\n",
    "\n",
    "# 读取图像\n",
    "image_path = '1.jpg'  # 确保这里的路径是正确的\n",
    "image = cv2.imread(image_path, cv2.IMREAD_GRAYSCALE)\n",
    "\n",
    "# 检查图像是否成功加载\n",
    "if image is not None:\n",
    "    # 获取图像深度（位深）\n",
    "    image_depth = image.dtype\n",
    "    print(f\"Image depth: {image_depth}\")\n",
    "else:\n",
    "    print(f\"Failed to load image at path: {image_path}\")"
   ]
  }
 ],
 "metadata": {
  "kernelspec": {
   "display_name": "DigitImageProcessing",
   "language": "python",
   "name": "python3"
  },
  "language_info": {
   "codemirror_mode": {
    "name": "ipython",
    "version": 3
   },
   "file_extension": ".py",
   "mimetype": "text/x-python",
   "name": "python",
   "nbconvert_exporter": "python",
   "pygments_lexer": "ipython3",
   "version": "3.8.20"
  }
 },
 "nbformat": 4,
 "nbformat_minor": 2
}
