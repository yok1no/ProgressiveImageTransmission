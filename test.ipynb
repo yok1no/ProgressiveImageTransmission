{
 "cells": [
  {
   "cell_type": "code",
   "execution_count": 1,
   "metadata": {},
   "outputs": [],
   "source": [
    "import numpy as np\n",
    "import pywt  # 小波变换库，用于反变换\n",
    "import matplotlib.pyplot as plt"
   ]
  },
  {
   "cell_type": "code",
   "execution_count": 2,
   "metadata": {},
   "outputs": [],
   "source": [
    "image_shape = 1024\n",
    "wavelet=\"db2\"\n",
    "level = 3\n",
    "block_size=[\n",
    "    (517, 517),\n",
    "    (264, 264),\n",
    "    (137, 137)\n",
    "]"
   ]
  },
  {
   "cell_type": "code",
   "execution_count": 5,
   "metadata": {},
   "outputs": [],
   "source": [
    "coeffs = [np.zeros((4 * block_size[i][0], 4 * block_size[i][1])) for i in range(level)]"
   ]
  },
  {
   "cell_type": "code",
   "execution_count": 10,
   "metadata": {},
   "outputs": [
    {
     "data": {
      "text/plain": [
       "(3, (2068, 2068), (1056, 1056), (548, 548))"
      ]
     },
     "execution_count": 10,
     "metadata": {},
     "output_type": "execute_result"
    }
   ],
   "source": [
    "len(coeffs),coeffs[0].shape,coeffs[1].shape,coeffs[2].shape"
   ]
  }
 ],
 "metadata": {
  "kernelspec": {
   "display_name": "DigitImageProcessing",
   "language": "python",
   "name": "python3"
  },
  "language_info": {
   "codemirror_mode": {
    "name": "ipython",
    "version": 3
   },
   "file_extension": ".py",
   "mimetype": "text/x-python",
   "name": "python",
   "nbconvert_exporter": "python",
   "pygments_lexer": "ipython3",
   "version": "3.8.20"
  }
 },
 "nbformat": 4,
 "nbformat_minor": 2
}
